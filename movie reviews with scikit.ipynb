{
 "metadata": {
  "name": "",
  "signature": "sha256:cfaed590dc50b8718b6134c9e02f66044336ab8d30f7a3ea8323b836060b5715"
 },
 "nbformat": 3,
 "nbformat_minor": 0,
 "worksheets": [
  {
   "cells": [
    {
     "cell_type": "code",
     "collapsed": false,
     "input": [
      "from nltk.corpus import movie_reviews\n",
      "import random\n",
      "import string"
     ],
     "language": "python",
     "metadata": {},
     "outputs": [],
     "prompt_number": 58
    },
    {
     "cell_type": "code",
     "collapsed": false,
     "input": [
      "docs = [(movie_reviews.raw(fileid), category)\n",
      "    for category in movie_reviews.categories()\n",
      "    for fileid in movie_reviews.fileids(category)]"
     ],
     "language": "python",
     "metadata": {},
     "outputs": [],
     "prompt_number": 79
    },
    {
     "cell_type": "code",
     "collapsed": true,
     "input": [
      "clean_docs = [(doc.replace('\\\\n?|\\\\t?',' ').translate(string.maketrans(\"\",\"\"), string.punctuation).lower(), label) for doc,label in docs]"
     ],
     "language": "python",
     "metadata": {},
     "outputs": [],
     "prompt_number": 86
    },
    {
     "cell_type": "code",
     "collapsed": false,
     "input": [
      "training_size = 0.8 \n",
      "test_size = 1 - training_size"
     ],
     "language": "python",
     "metadata": {},
     "outputs": [],
     "prompt_number": 8
    },
    {
     "cell_type": "code",
     "collapsed": false,
     "input": [
      "shuffled_docs = random.shuffle(clean_docs)"
     ],
     "language": "python",
     "metadata": {},
     "outputs": [],
     "prompt_number": 91
    },
    {
     "cell_type": "code",
     "collapsed": false,
     "input": [
      "clean_docs[1:2]"
     ],
     "language": "python",
     "metadata": {},
     "outputs": [
      {
       "metadata": {},
       "output_type": "pyout",
       "prompt_number": 92,
       "text": [
        "[('ah  and 1999 was going along so well  too  \\n  shes all that  has the dubious distinction of being the worst movie ive seen so far this year  \\nand quite frankly  i doubt ill see anything equally bad  \\n  at least  i  hope  i dont see anything equally bad   \\n  shes all that  tells the story of the most popular guy in school  played by freddie prinze jr   who accepts a bet to transform the geekiest girl in school  rachel leigh cook  into the most popular  \\nthat  right there  is problem 1  \\nhow many times have we seen this storyline  \\nas cook comments near the end of the film   its kind of like  pretty woman   except without the prostitution   \\nof course  had the filmmakers attempted to try something new with this material  the wellworn storyline would have been a device to propell the movie forward  \\nas it is  though   shes all that  relies  completely  on the lame and overused formula to push it ahead  \\ntheres not one original or interesting character in the film  either  and if that wasnt bad enough  theres not one good performance featured  \\nthe star of the movie  rachel leigh cook  is simply horrible  \\ni usually dont like to get so personal  but in this case  i think it needs to be said  \\ncook wears the same expression throughout the flick and looks to be having as miserable a time as i was  \\ni was never convinced that she was a  nerd   and her transformation was unconvincing and unnecessary  \\nthe movie seems to be saying its better to be popular than to be who you are  \\nas for freddie prinze jr   an actor i ordinarily enjoy  he too is quite bad here  \\nhe coasts through the film on socalled charm  and never establishes a real character  \\nkieren culkin is here  too  as the brother of cook  \\nand for some indiscernable reason  hes got hearing aids  \\nno explanation is given and theyre never brought up  \\nwere we supposed to feel  sorry  for him just because he wore hearing aids  \\ni dont think so  \\nthat single element of the film was one of the most offensive things ive seen in a movie in a long time  \\n  shes all that  sucks  \\nthats what it boils down to  \\nits not entertaining  and its not even a good time passer  \\nthe hour and a half running time goes by slower than a 5 minute hairremoval system informercial  \\nand whats worse  it sends out a bad message to teens  \\nit appears to be telling them   hey  it doesnt matter if youre happy the way you are  \\nthats unimportant  \\nif you want to  truly  be happy  dress in the latest fashions and act like a bubbleheaded moron   \\nugh  \\n',\n",
        "  'neg')]"
       ]
      }
     ],
     "prompt_number": 92
    },
    {
     "cell_type": "code",
     "collapsed": false,
     "input": [
      "positive_reviews = [doc for doc,label in shuffled_docs if label == 'pos']\n",
      "negative_reviews = [doc for doc,label in shuffled_docs if label == 'neg']"
     ],
     "language": "python",
     "metadata": {},
     "outputs": [
      {
       "ename": "TypeError",
       "evalue": "'NoneType' object is not iterable",
       "output_type": "pyerr",
       "traceback": [
        "\u001b[1;31m---------------------------------------------------------------------------\u001b[0m\n\u001b[1;31mTypeError\u001b[0m                                 Traceback (most recent call last)",
        "\u001b[1;32m<ipython-input-93-be17fd13a138>\u001b[0m in \u001b[0;36m<module>\u001b[1;34m()\u001b[0m\n\u001b[1;32m----> 1\u001b[1;33m \u001b[0mpositive_reviews\u001b[0m \u001b[1;33m=\u001b[0m \u001b[1;33m[\u001b[0m\u001b[0mdoc\u001b[0m \u001b[1;32mfor\u001b[0m \u001b[0mdoc\u001b[0m\u001b[1;33m,\u001b[0m\u001b[0mlabel\u001b[0m \u001b[1;32min\u001b[0m \u001b[0mshuffled_docs\u001b[0m \u001b[1;32mif\u001b[0m \u001b[0mlabel\u001b[0m \u001b[1;33m==\u001b[0m \u001b[1;34m'pos'\u001b[0m\u001b[1;33m]\u001b[0m\u001b[1;33m\u001b[0m\u001b[0m\n\u001b[0m\u001b[0;32m      2\u001b[0m \u001b[0mnegative_reviews\u001b[0m \u001b[1;33m=\u001b[0m \u001b[1;33m[\u001b[0m\u001b[0mdoc\u001b[0m \u001b[1;32mfor\u001b[0m \u001b[0mdoc\u001b[0m\u001b[1;33m,\u001b[0m\u001b[0mlabel\u001b[0m \u001b[1;32min\u001b[0m \u001b[0mshuffled_docs\u001b[0m \u001b[1;32mif\u001b[0m \u001b[0mlabel\u001b[0m \u001b[1;33m==\u001b[0m \u001b[1;34m'neg'\u001b[0m\u001b[1;33m]\u001b[0m\u001b[1;33m\u001b[0m\u001b[0m\n",
        "\u001b[1;31mTypeError\u001b[0m: 'NoneType' object is not iterable"
       ]
      }
     ],
     "prompt_number": 93
    },
    {
     "cell_type": "code",
     "collapsed": false,
     "input": [
      "print positive_reviews[1:2]"
     ],
     "language": "python",
     "metadata": {},
     "outputs": [
      {
       "output_type": "stream",
       "stream": "stdout",
       "text": [
        "['pos/cv001_18431.txt']\n"
       ]
      }
     ],
     "prompt_number": 25
    },
    {
     "cell_type": "code",
     "collapsed": false,
     "input": [
      "positive_training_size = int(len(positive_reviews)*training_size)\n",
      "negative_training_size = int(len(negative_reviews)*training_size)\n",
      "positive_labels = ['pos']*len(positive_reviews)\n",
      "negative_labels = ['neg']*len(negative_reviews)"
     ],
     "language": "python",
     "metadata": {},
     "outputs": [],
     "prompt_number": 37
    },
    {
     "cell_type": "code",
     "collapsed": false,
     "input": [
      "# TRAINING\n",
      "positive_training_examples = positive_reviews[:positive_training_size]\n",
      "positive_training_labels = positive_labels[:positive_training_size]\n",
      "\n",
      "negative_training_examples = negative_reviews[:negative_training_size]\n",
      "negative_training_labels =negative_labels[:negative_training_size]\n",
      "\n",
      "# TEST\n",
      "positive_test_examples = positive_reviews[positive_training_size:]\n",
      "positive_test_labels = positive_labels[positive_training_size:]\n",
      "\n",
      "negative_test_examples = negative_reviews[negative_training_size:]\n",
      "negative_test_labels =negative_labels[negative_training_size:]"
     ],
     "language": "python",
     "metadata": {},
     "outputs": [],
     "prompt_number": 39
    },
    {
     "cell_type": "code",
     "collapsed": false,
     "input": [
      "from sklearn.naive_bayes import GaussianNB\n",
      "gnb = GaussianNB()"
     ],
     "language": "python",
     "metadata": {},
     "outputs": []
    },
    {
     "cell_type": "code",
     "collapsed": false,
     "input": [
      "TFIDFVectorizer(min_df = 0.5, stopwords='english')"
     ],
     "language": "python",
     "metadata": {},
     "outputs": [],
     "prompt_number": 12
    },
    {
     "cell_type": "code",
     "collapsed": false,
     "input": [],
     "language": "python",
     "metadata": {},
     "outputs": [
      {
       "metadata": {},
       "output_type": "pyout",
       "prompt_number": 30,
       "text": [
        "[1]"
       ]
      }
     ],
     "prompt_number": 30
    },
    {
     "cell_type": "code",
     "collapsed": false,
     "input": [],
     "language": "python",
     "metadata": {},
     "outputs": []
    }
   ],
   "metadata": {}
  }
 ]
}