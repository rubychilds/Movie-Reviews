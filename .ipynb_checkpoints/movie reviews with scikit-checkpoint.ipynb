{
 "metadata": {
  "name": "",
  "signature": "sha256:8124c5315f2db3e1f53846ac7d993905006d16bfe4b5c6f1642fb0f66cac5fa5"
 },
 "nbformat": 3,
 "nbformat_minor": 0,
 "worksheets": [
  {
   "cells": [
    {
     "cell_type": "markdown",
     "metadata": {},
     "source": [
      "from nltk.corpus import movie_reviews\n",
      "from random import shuffle\n",
      "import string\n",
      "import re\n",
      "from sklearn.feature_extraction.text import TfidfVectorizer\n",
      "from sklearn.naive_bayes import MultinomialNB\n",
      "from sklearn import metrics\n",
      "from sklearn.metrics import classification_report"
     ]
    },
    {
     "cell_type": "code",
     "collapsed": false,
     "input": [
      "docs = [(movie_reviews.raw(fileid), category)\n",
      "    for category in movie_reviews.categories()\n",
      "    for fileid in movie_reviews.fileids(category)]"
     ],
     "language": "python",
     "metadata": {},
     "outputs": [],
     "prompt_number": 4
    },
    {
     "cell_type": "code",
     "collapsed": true,
     "input": [
      "clean_docs = [(re.sub('\\\\n|\\\\t',' ',doc).translate(string.maketrans(\"\",\"\"), string.punctuation).lower(), label) for doc,label in docs]"
     ],
     "language": "python",
     "metadata": {},
     "outputs": [],
     "prompt_number": 5
    },
    {
     "cell_type": "code",
     "collapsed": false,
     "input": [
      "training_size = 0.8 \n",
      "test_size = 1 - training_size"
     ],
     "language": "python",
     "metadata": {},
     "outputs": [],
     "prompt_number": 6
    },
    {
     "cell_type": "code",
     "collapsed": false,
     "input": [
      "clean_docs[1:2]"
     ],
     "language": "python",
     "metadata": {},
     "outputs": [
      {
       "metadata": {},
       "output_type": "pyout",
       "prompt_number": 7,
       "text": [
        "[('the happy bastards quick movie review  damn that y2k bug   its got a head start in this movie starring jamie lee curtis and another baldwin brother  william this time  in a story regarding a crew of a tugboat that comes across a deserted russian tech ship that has a strangeness to it when they kick the power back on   little do they know the power within     going for the gore and bringing on a few action sequences here and there  virus still feels very empty  like a movie going for all flash and no substance   we dont know why the crew was really out in the middle of nowhere  we dont know the origin of what took over the ship  just that a big pink flashy thing hit the mir   and  of course  we dont know why donald sutherland is stumbling around drunkenly throughout   here  its just  hey  lets chase these people around with some robots    the acting is below average  even from the likes of curtis   youre more likely to get a kick out of her work in halloween h20   sutherland is wasted and baldwin  well  hes acting like a baldwin  of course   the real star here are stan winstons robot design  some schnazzy cgi  and the occasional good gore shot  like picking into someones brain   so  if robots and body parts really turn you on  heres your movie   otherwise  its pretty much a sunken ship of a movie   ',\n",
        "  'neg')]"
       ]
      }
     ],
     "prompt_number": 7
    },
    {
     "cell_type": "code",
     "collapsed": false,
     "input": [
      "positive_reviews[1]"
     ],
     "language": "python",
     "metadata": {},
     "outputs": [
      {
       "metadata": {},
       "output_type": "pyout",
       "prompt_number": 19,
       "text": [
        "'every now and then a movie comes along from a suspect studio  with every indication that it will be a stinker  and to everybodys surprise  perhaps even the studio  the film becomes a critical darling   mtv films election  a high school comedy starring matthew broderick and reese witherspoon  is a current example   did anybody know this film existed a week before it opened   the plot is deceptively simple   george washington carver high school is having student elections   tracy flick  reese witherspoon  is an overachiever with her hand raised at nearly every question  way  way  high   mr   m   matthew broderick   sick of the megalomaniac student  encourages paul  a popularbutslow jock to run   and pauls nihilistic sister jumps in the race as well  for personal reasons   the dark side of such sleeper success is that  because expectations were so low going in  the fact that this was quality stuff made the reviews even more enthusiastic than they have any right to be   you cant help going in with the baggage of glowing reviews  which is in contrast to the negative baggage that the reviewers were likely to have   election  a good film  does not live up to its hype   what makes election so disappointing is that it contains significant plot details lifted directly from rushmore  released a few months earlier   the similarities are staggering   tracy flick  election  is the president of an extraordinary number of clubs  and is involved with the school play   max fischer  rushmore  is the president of an extraordinary number of clubs  and is involved with the school play   the most significant tension of election is the potential relationship between a teacher and his student   the most significant tension of rushmore is the potential relationship between a teacher and his student   tracy flick is from a single parent home  which has contributed to her drive   max fischer is from a single parent home  which has contributed to his drive   the male bumbling adult in election  matthew broderick  pursues an extramarital affair  gets caught  and his whole life is ruined   he even gets a bee sting   the male bumbling adult in rushmore  bill murray  pursues an extramarital affair  gets caught  and his whole life is ruined   he gets several bee stings   and so on   what happened   how is it that an individual screenplay  rushmore  and a novel  election  contain so many significant plot points  and yet both films were probably not even aware of each other  made from two different studios  from a genre  the high school geeks revenge movie  that hadnt been fully formed yet   even so  the strengths of election rely upon its fantastic performances from broderick  witherspoon  and newcomer jessica campbell  as pauls antisocial sister  tammy   broderick here is playing the mr  rooney role from ferris bueller  and he seems to be having the most fun hes had since then   witherspoon is a revelation   its early in the year  its a comedy  and teenagers have little clout  but for my money  witherspoon deserves an oscar nomination   and once campbells character gets going  like in her fantastic speech in the gymnasium  then youre won over   one thing thats been bothering me since ive seen it   there is an extraordinary amount of sexuality in this film   i suppose that  coming from mtv films  i should expect no less     but the film starts off light and airy  like a sitcom   as the screws tighten  and the tensions mount  alexander payne decides to add elements that  frankly  distract from the story   it is bad enough that mr  m doesnt like tracys determination to win at all costs  but did they have to throw in the studentteacher relationship   even so  theres no logical reason why mr  m has an affair when he does   theres a lot to like in election  but the plot similarities to rushmore  and the tonal nosedive it takes as it gets explicitly sexdriven  mark this as a disappointment   '"
       ]
      }
     ],
     "prompt_number": 19
    },
    {
     "cell_type": "code",
     "collapsed": false,
     "input": [
      "positive_reviews = [doc for doc,label in clean_docs if label == 'pos']\n",
      "negative_reviews = [doc for doc,label in clean_docs if label == 'neg']"
     ],
     "language": "python",
     "metadata": {},
     "outputs": [],
     "prompt_number": 20
    },
    {
     "cell_type": "code",
     "collapsed": false,
     "input": [
      "positive_training_size = int(len(positive_reviews)*training_size)\n",
      "negative_training_size = int(len(negative_reviews)*training_size)\n",
      "positive_labels = ['pos']*len(positive_reviews)\n",
      "negative_labels = ['neg']*len(negative_reviews)"
     ],
     "language": "python",
     "metadata": {},
     "outputs": [],
     "prompt_number": 21
    },
    {
     "cell_type": "code",
     "collapsed": false,
     "input": [
      "# TRAINING\n",
      "positive_training_examples = positive_reviews[:positive_training_size]\n",
      "positive_training_labels = positive_labels[:positive_training_size]\n",
      "\n",
      "negative_training_examples = negative_reviews[:negative_training_size]\n",
      "negative_training_labels =negative_labels[:negative_training_size]\n",
      "\n",
      "# TEST\n",
      "positive_test_examples = positive_reviews[positive_training_size:]\n",
      "positive_test_labels = positive_labels[positive_training_size:]\n",
      "\n",
      "negative_test_examples = negative_reviews[negative_training_size:]\n",
      "negative_test_labels = negative_labels[negative_training_size:]"
     ],
     "language": "python",
     "metadata": {},
     "outputs": [],
     "prompt_number": 22
    },
    {
     "cell_type": "code",
     "collapsed": false,
     "input": [
      "training_examples = positive_training_examples + negative_training_examples\n",
      "test_examples = positive_test_examples + negative_test_examples\n",
      "training_labels = positive_training_labels + negative_training_examples\n",
      "test_labels = positive_test_labels + negative_test_labels"
     ],
     "language": "python",
     "metadata": {},
     "outputs": []
    },
    {
     "cell_type": "code",
     "collapsed": false,
     "input": [
      "vectorizer = TfidfVectorizer(min_df=2, ngram_range=(1, 2),  stop_words='english', strip_accents='unicode', norm='l2',decode_error=\"ignore\")\n",
      "# analyzer=stemming_analyzer"
     ],
     "language": "python",
     "metadata": {},
     "outputs": [
      {
       "ename": "NameError",
       "evalue": "name 'TFIDFVectorizer' is not defined",
       "output_type": "pyerr",
       "traceback": [
        "\u001b[1;31m---------------------------------------------------------------------------\u001b[0m\n\u001b[1;31mNameError\u001b[0m                                 Traceback (most recent call last)",
        "\u001b[1;32m<ipython-input-24-ae4e6c463f15>\u001b[0m in \u001b[0;36m<module>\u001b[1;34m()\u001b[0m\n\u001b[1;32m----> 1\u001b[1;33m \u001b[0mTFIDFVectorizer\u001b[0m\u001b[1;33m(\u001b[0m\u001b[0mmin_df\u001b[0m \u001b[1;33m=\u001b[0m \u001b[1;36m0.5\u001b[0m\u001b[1;33m,\u001b[0m \u001b[0mstopwords\u001b[0m\u001b[1;33m=\u001b[0m\u001b[1;34m'english'\u001b[0m\u001b[1;33m)\u001b[0m\u001b[1;33m\u001b[0m\u001b[0m\n\u001b[0m",
        "\u001b[1;31mNameError\u001b[0m: name 'TFIDFVectorizer' is not defined"
       ]
      }
     ],
     "prompt_number": 24
    },
    {
     "cell_type": "code",
     "collapsed": false,
     "input": [
      "test_string = unicode(training_examples[0])\n",
      "print \"Example string: \" + test_string\n",
      "print \"Example string: \" + test_string\n",
      "print \"Preprocessed string: \" + vectorizer.build_preprocessor()(test_string)\n",
      "print \"Tokenized string:\" + str(vectorizer.build_tokenizer()(test_string))\n",
      "print \"N-gram data string:\" + str(vectorizer.build_analyzer()(test_string))\n",
      "print \"\\n\""
     ],
     "language": "python",
     "metadata": {},
     "outputs": [
      {
       "metadata": {},
       "output_type": "pyout",
       "prompt_number": 30,
       "text": [
        "[1]"
       ]
      }
     ],
     "prompt_number": 30
    },
    {
     "cell_type": "code",
     "collapsed": false,
     "input": [
      "X_train = vectorizer.fit_transform(training_examples)\n",
      "X_test = vectorizer.transform(test_examples)"
     ],
     "language": "python",
     "metadata": {},
     "outputs": []
    },
    {
     "cell_type": "code",
     "collapsed": false,
     "input": [
      "nb_classifier = MultinomialNB(alpha=0.5,fit_prior=True).fit(X_train, training_labels)"
     ],
     "language": "python",
     "metadata": {},
     "outputs": []
    },
    {
     "cell_type": "code",
     "collapsed": false,
     "input": [
      "y_nb_predicted = nb_classifier.predict(X_test)"
     ],
     "language": "python",
     "metadata": {},
     "outputs": []
    },
    {
     "cell_type": "code",
     "collapsed": false,
     "input": [
      "print \"MODEL: Multinomial Naive Bayes\\n\"\n",
      "\n",
      "print 'The precision for this classifier is ' + str(metrics.precision_score(test_labels, y_nb_predicted))\n",
      "print 'The recall for this classifier is ' + str(metrics.recall_score(test_labels, y_nb_predicted))\n",
      "print 'The f1 for this classifier is ' + str(metrics.f1_score(test_labels, y_nb_predictede))\n",
      "print 'The accuracy for this classifier is ' + str(metrics.accuracy_score(test_labels, y_nb_predicted))\n",
      "\n",
      "print '\\nHere is the classification report:'\n",
      "print classification_report(test_labels, y_nb_predicted) "
     ],
     "language": "python",
     "metadata": {},
     "outputs": []
    },
    {
     "cell_type": "code",
     "collapsed": false,
     "input": [
      "N = 10\n",
      "vocabulary = np.array([t for t, i in sorted(vectorizer.vocabulary_.iteritems(), key=itemgetter(1))])\n",
      "for i, label in enumerate(set(labels)):\n",
      "    topN = np.argsort(nb_classifier_title.coef_[i])[-N:]\n",
      "    print \"\\nThe top %d most informative features for topic code %s: \\n%s\" % (N, label, \" , \".join(vocabulary[topN]))\n",
      " #print topN"
     ],
     "language": "python",
     "metadata": {},
     "outputs": []
    },
    {
     "cell_type": "code",
     "collapsed": false,
     "input": [
      "cm = metrics.confusion_matrix(y_test_title, y_nb_predicted_title )"
     ],
     "language": "python",
     "metadata": {},
     "outputs": []
    },
    {
     "cell_type": "code",
     "collapsed": false,
     "input": [],
     "language": "python",
     "metadata": {},
     "outputs": []
    }
   ],
   "metadata": {}
  }
 ]
}